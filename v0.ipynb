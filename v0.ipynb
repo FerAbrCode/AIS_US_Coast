{
 "cells": [
  {
   "cell_type": "markdown",
   "id": "e1a2d1f2",
   "metadata": {},
   "source": [
    "AIS Data"
   ]
  },
  {
   "cell_type": "code",
   "execution_count": 1,
   "id": "1d993174",
   "metadata": {},
   "outputs": [],
   "source": [
    "import pandas as pd\n",
    "\n",
    "chunks = pd.read_csv(\"data.csv\", chunksize=100_000)\n",
    "for chunk in chunks:\n",
    "    tankers = chunk[chunk[\"VesselType\"] == 80]\n",
    "    # Process or store tankers here\n"
   ]
  },
  {
   "cell_type": "code",
   "execution_count": 2,
   "id": "595d0352",
   "metadata": {},
   "outputs": [
    {
     "name": "stdout",
     "output_type": "stream",
     "text": [
      "There are 1330 tankers in the dataset\n"
     ]
    }
   ],
   "source": [
    "#Print how many Tankers are in the dataset\n",
    "print(f\"There are {len(tankers)} tankers in the dataset\")\n"
   ]
  },
  {
   "cell_type": "code",
   "execution_count": 5,
   "id": "ee3d4eda",
   "metadata": {},
   "outputs": [
    {
     "name": "stdout",
     "output_type": "stream",
     "text": [
      "There are 292 unique tankers in the dataset\n"
     ]
    }
   ],
   "source": [
    "#Print how many unique tankers are in the dataset\n",
    "print(f\"There are {tankers['MMSI'].nunique()} unique tankers in the dataset\")\n"
   ]
  },
  {
   "cell_type": "code",
   "execution_count": 6,
   "id": "9a7aef77",
   "metadata": {},
   "outputs": [
    {
     "name": "stdout",
     "output_type": "stream",
     "text": [
      "              MMSI         BaseDateTime       LAT        LON  SOG    COG  \\\n",
      "7000081  240991000  2020-01-01T23:05:03  40.65215  -74.08700  0.0  173.0   \n",
      "7000085  235076275  2020-01-01T23:05:58  27.40668  -96.69615  0.3  250.7   \n",
      "7000122  367006790  2020-01-01T23:05:49  33.71950 -118.22519  5.8  240.4   \n",
      "7000136  563164000  2020-01-01T23:04:43  30.19782  -91.10732  0.0  225.4   \n",
      "7000180  538002784  2020-01-01T23:03:31  42.40297  -70.85053  8.0  227.1   \n",
      "\n",
      "         Heading          VesselName         IMO CallSign  VesselType  Status  \\\n",
      "7000081    240.0              FOURNI  IMO9405564    SVAX9        80.0     5.0   \n",
      "7000085    224.0  PARAMOUNT HELSINKI  IMO9453963    2CWB3        80.0     3.0   \n",
      "7000122    511.0           VICKI ANN         NaN  WYE3508        80.0     5.0   \n",
      "7000136    225.0       FSL HONG KONG  IMO9346732    9VLY8        80.0     1.0   \n",
      "7000180    235.0     IVER PROSPERITY  IMO9351921    V7LP8        80.0     0.0   \n",
      "\n",
      "         Length  Width  Draft  Cargo TransceiverClass  \n",
      "7000081   183.0   32.0   13.3   80.0                A  \n",
      "7000085   249.0   44.0   14.8    NaN                A  \n",
      "7000122    22.0    7.0    NaN   80.0                A  \n",
      "7000136   249.0   43.0   14.9   80.0                A  \n",
      "7000180   184.0   27.0   11.3   80.0                A  \n"
     ]
    }
   ],
   "source": [
    "#print first 5 unique tankers names and data\n",
    "print(tankers.drop_duplicates(subset=[\"MMSI\"]).head())"
   ]
  },
  {
   "cell_type": "code",
   "execution_count": 35,
   "id": "f32ece2b",
   "metadata": {},
   "outputs": [
    {
     "name": "stdout",
     "output_type": "stream",
     "text": [
      "              MMSI        BaseDateTime       LAT       LON  SOG    COG  \\\n",
      "7000085  235076275 2020-01-01 23:05:58  27.40668 -96.69615  0.3  250.7   \n",
      "7008612  235076275 2020-01-01 23:17:57  27.40618 -96.69707  0.2  229.0   \n",
      "7009568  235076275 2020-01-01 23:21:07  27.40605 -96.69730  0.3  231.7   \n",
      "7019064  235076275 2020-01-01 23:32:57  27.40562 -96.69826  0.4  236.7   \n",
      "7020862  235076275 2020-01-01 23:39:36  27.40538 -96.69884  0.2  234.2   \n",
      "7029544  235076275 2020-01-01 23:54:37  27.40483 -96.69990  0.7  208.3   \n",
      "7033036  235076275 2020-01-01 23:59:16  27.40458 -96.70011  0.3  199.5   \n",
      "\n",
      "         Heading          VesselName         IMO CallSign  VesselType  Status  \\\n",
      "7000085    224.0  PARAMOUNT HELSINKI  IMO9453963    2CWB3        80.0     3.0   \n",
      "7008612    230.0  PARAMOUNT HELSINKI  IMO9453963    2CWB3        80.0     3.0   \n",
      "7009568    230.0  PARAMOUNT HELSINKI  IMO9453963    2CWB3        80.0     3.0   \n",
      "7019064    224.0  PARAMOUNT HELSINKI  IMO9453963    2CWB3        80.0     3.0   \n",
      "7020862    219.0  PARAMOUNT HELSINKI  IMO9453963    2CWB3        80.0     3.0   \n",
      "7029544    227.0  PARAMOUNT HELSINKI  IMO9453963    2CWB3        80.0     3.0   \n",
      "7033036    230.0  PARAMOUNT HELSINKI  IMO9453963    2CWB3        80.0     3.0   \n",
      "\n",
      "         Length  Width  Draft  Cargo TransceiverClass  \n",
      "7000085   249.0   44.0   14.8    NaN                A  \n",
      "7008612   249.0   44.0   14.8    NaN                A  \n",
      "7009568   249.0   44.0   14.8    NaN                A  \n",
      "7019064   249.0   44.0   14.8    NaN                A  \n",
      "7020862   249.0   44.0   14.8    NaN                A  \n",
      "7029544   249.0   44.0   14.8    NaN                A  \n",
      "7033036   249.0   44.0   14.8    NaN                A  \n"
     ]
    }
   ],
   "source": [
    "#Print PARAMOUNT HELSINKI details\n",
    "print(tankers[tankers[\"VesselName\"] == \"PARAMOUNT HELSINKI\"])"
   ]
  },
  {
   "cell_type": "code",
   "execution_count": 8,
   "id": "5f5c20d4",
   "metadata": {},
   "outputs": [
    {
     "name": "stdout",
     "output_type": "stream",
     "text": [
      "VesselName\n",
      "RAPPAHANNOCK        434\n",
      "ALTO ACRUX           19\n",
      "CLEAN THRASHER        9\n",
      "OCEAN BREEZE          9\n",
      "OVERSEAS HOUSTON      9\n",
      "Name: count, dtype: int64\n"
     ]
    }
   ],
   "source": [
    "#Print names of top 5 tankers with most entries and their number of entries\n",
    "top_5_tankers = tankers['VesselName'].value_counts().head(5)\n",
    "print(top_5_tankers)"
   ]
  },
  {
   "cell_type": "code",
   "execution_count": 34,
   "id": "f901aaa1",
   "metadata": {},
   "outputs": [
    {
     "name": "stdout",
     "output_type": "stream",
     "text": [
      "There are 19 rows with invalid heading\n",
      "7000122    511.0\n",
      "7003462    511.0\n",
      "7003489    511.0\n",
      "7005295    511.0\n",
      "7005348    511.0\n",
      "7005529    511.0\n",
      "7009696    511.0\n",
      "7010802    511.0\n",
      "7014597    511.0\n",
      "7015258    511.0\n",
      "7016867    511.0\n",
      "7017724    511.0\n",
      "7018642    511.0\n",
      "7020163    511.0\n",
      "7020243    511.0\n",
      "7025247    511.0\n",
      "7027201    511.0\n",
      "7031224    511.0\n",
      "7031465    511.0\n",
      "Name: Heading, dtype: float64\n"
     ]
    }
   ],
   "source": [
    "#Print number of rows with a heading that is not a number, and where it isnt between 0 and 360\n",
    "invalid_heading = tankers[~tankers[\"Heading\"].apply(lambda x: isinstance(x, (int, float)) and 0 <= x <= 360)]\n",
    "print(f\"There are {len(invalid_heading)} rows with invalid heading\")\n",
    "#Print the invalid headings values\n",
    "print(invalid_heading[\"Heading\"])\n",
    "\n"
   ]
  },
  {
   "cell_type": "code",
   "execution_count": 33,
   "id": "f85d05e5",
   "metadata": {},
   "outputs": [],
   "source": [
    "# Make a folium map similar to MarineTraffic: dark basemap + seamark overlay\n",
    "# Show only the last known position of each ship (arrow marker) and a dashed trail for its path\n",
    "import folium\n",
    "from folium import IFrame, DivIcon, PolyLine\n",
    "from folium.plugins import Fullscreen\n",
    "import numpy as np\n",
    "from matplotlib import cm\n",
    "from matplotlib.colors import Normalize, rgb2hex\n",
    "import pandas as pd\n",
    "# Center map on data (fallback to 0,0)\n",
    "if len(tankers):\n",
    "    center = [tankers['LAT'].mean(), tankers['LON'].mean()]\n",
    "else:\n",
    "    center = [0, 0]\n",
    "# Use a dark basemap for MarineTraffic-like appearance\n",
    "m = folium.Map(location=center, zoom_start=5, tiles='CartoDB dark_matter')\n",
    "# Add OpenSeaMap seamark overlay (nautical symbols)\n",
    "folium.TileLayer('https://tiles.openseamap.org/seamark/{z}/{x}/{y}.png', name='SeaMarks', attr='OpenSeaMap - seamark').add_to(m)\n",
    "# Fullscreen control\n",
    "Fullscreen().add_to(m)\n",
    "# Prepare colors per vessel\n",
    "unique_vessels = tankers['MMSI'].unique()\n",
    "colors = cm.viridis(Normalize()(np.arange(len(unique_vessels))))\n",
    "color_map = {vessel: rgb2hex(color) for vessel, color in zip(unique_vessels, colors)}\n",
    "# Try to find a timestamp column to order positions. Use common candidate names.\n",
    "timestamp_candidates = ['BaseDateTime','Timestamp','Date','Datetime','date','time','BaseDateTimeUTC','DateTimeUTC','received_at','timestamp']\n",
    "timestamp_col = next((c for c in timestamp_candidates if c in tankers.columns), None)\n",
    "if timestamp_col is not None:\n",
    "    tankers = tankers.copy()\n",
    "    tankers[timestamp_col] = pd.to_datetime(tankers[timestamp_col], errors='coerce')\n",
    "    tankers_sorted = tankers.sort_values(timestamp_col)\n",
    "else:\n",
    "    tankers_sorted = tankers\n",
    "# Build last known position per MMSI (last in time order)\n",
    "last_positions = tankers_sorted.groupby('MMSI', sort=False).last().reset_index()\n",
    "# Plot trails (dashed) and last position arrow for each ship\n",
    "for mmsi, group in tankers_sorted.groupby('MMSI'):\n",
    "    # sort group by timestamp if available\n",
    "    if timestamp_col is not None and timestamp_col in group.columns:\n",
    "        group = group.sort_values(timestamp_col)\n",
    "    coords = [(r['LAT'], r['LON']) for _, r in group.iterrows() if pd.notna(r.get('LAT')) and pd.notna(r.get('LON'))]\n",
    "    if len(coords) >= 2:\n",
    "        # trail uses same color, dashed line\n",
    "        trail_color = color_map.get(mmsi, '#00ffff')\n",
    "        PolyLine(locations=coords, color=trail_color, weight=2, opacity=0.8, dash_array='6,6').add_to(m)\n",
    "# Add last position markers with arrow SVGs on top\n",
    "for _, row in last_positions.iterrows():\n",
    "    lat = row.get('LAT')\n",
    "    lon = row.get('LON')\n",
    "    if pd.isna(lat) or pd.isna(lon):\n",
    "        continue\n",
    "    mmsi = row.get('MMSI')\n",
    "    color = color_map.get(mmsi, '#00ffff')\n",
    "    heading = row.get('Heading')\n",
    "    try:\n",
    "        heading = float(heading)\n",
    "    except Exception:\n",
    "        heading = 0.0\n",
    "    svg_size = 36\n",
    "    svg = f'''<div style=\"width:{svg_size}px;height:{svg_size}px;display:flex;align-items:center;justify-content:center;\">\n",
    "    <svg xmlns=\"http://www.w3.org/2000/svg\" width=\"{svg_size}\" height=\"{svg_size}\" viewBox=\"0 0 24 24\" style=\"transform: rotate({heading}deg); transform-origin: 12px 12px;\">\n",
    "      <path d=\"M12 2 L19 21 L12 17 L5 21 Z\" fill=\"{color}\" stroke=\"#ffffff\" stroke-width=\"0.8\" />\n",
    "    </svg>\n",
    "    </div>'''\n",
    "    icon = DivIcon(html=svg)\n",
    "    iframe = IFrame(f\"Vessel Name: {row.get('VesselName','')}<br>Speed (SOG): {row.get('SOG','')}<br>Heading: {heading}\", width=260, height=120)\n",
    "    popup = folium.Popup(iframe, max_width=320)\n",
    "    folium.Marker(location=[lat, lon], icon=icon, popup=popup).add_to(m)\n",
    "# Layer control and save\n",
    "folium.LayerControl().add_to(m)\n",
    "m.save(\"tankers_detailed_map.html\")\n",
    "\n"
   ]
  },
  {
   "cell_type": "code",
   "execution_count": null,
   "id": "efd1b745",
   "metadata": {},
   "outputs": [],
   "source": []
  }
 ],
 "metadata": {
  "kernelspec": {
   "display_name": "Python 3",
   "language": "python",
   "name": "python3"
  },
  "language_info": {
   "codemirror_mode": {
    "name": "ipython",
    "version": 3
   },
   "file_extension": ".py",
   "mimetype": "text/x-python",
   "name": "python",
   "nbconvert_exporter": "python",
   "pygments_lexer": "ipython3",
   "version": "3.13.5"
  }
 },
 "nbformat": 4,
 "nbformat_minor": 5
}
